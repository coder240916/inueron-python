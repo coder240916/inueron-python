{
 "cells": [
  {
   "cell_type": "markdown",
   "metadata": {},
   "source": [
    "## 1. In Python, what is the difference between a built-in function and a user-defined function? Provide an example of each."
   ]
  },
  {
   "cell_type": "markdown",
   "metadata": {},
   "source": [
    "* Buitin functions are readily available functions which are predefined for performing some task.\n",
    "* example of builtin functions are list,str,tuple,range,len,dict,sorted etc"
   ]
  },
  {
   "cell_type": "code",
   "execution_count": 8,
   "metadata": {},
   "outputs": [
    {
     "name": "stdout",
     "output_type": "stream",
     "text": [
      "['h', 'e', 'l', 'l', 'o']\n",
      "1\n",
      "[1, 2, 3]\n",
      "range(0, 10)\n"
     ]
    },
    {
     "data": {
      "text/plain": [
       "0"
      ]
     },
     "execution_count": 8,
     "metadata": {},
     "output_type": "execute_result"
    }
   ],
   "source": [
    "print(list(\"hello\"))\n",
    "print(str(1))\n",
    "print(sorted([3,2,1]))\n",
    "print(range(10))\n",
    "len([])"
   ]
  },
  {
   "cell_type": "markdown",
   "metadata": {},
   "source": [
    "* user defined functions are custom functions created using def keyword"
   ]
  },
  {
   "cell_type": "code",
   "execution_count": 9,
   "metadata": {},
   "outputs": [
    {
     "name": "stdout",
     "output_type": "stream",
     "text": [
      "hello,world\n"
     ]
    }
   ],
   "source": [
    "def greet():\n",
    "    print(\"hello,world\")\n",
    "    \n",
    "greet()"
   ]
  },
  {
   "cell_type": "code",
   "execution_count": null,
   "metadata": {},
   "outputs": [],
   "source": []
  },
  {
   "cell_type": "markdown",
   "metadata": {},
   "source": [
    "## 2. How can you pass arguments to a function in Python? Explain the difference between positional arguments and keyword arguments."
   ]
  },
  {
   "cell_type": "markdown",
   "metadata": {},
   "source": [
    "* arguments can be passed to function either by position or keywords.\n",
    "* positional arguments takes values directly seperated by commas i.e in tuples and will be matched to function parameters by position.\n",
    "* Keyword arguments or named arguments takes values explicitly specified by parameter name.\n",
    "* in case of mixing of attribues in function calls, keyword arguemnts should come at the end"
   ]
  },
  {
   "cell_type": "markdown",
   "metadata": {},
   "source": [
    "## 3. What is the purpose of the return statement in a function? Can a function have multiple return statements? Explain with an example."
   ]
  },
  {
   "cell_type": "markdown",
   "metadata": {},
   "source": [
    "* return statement is used to return values from function call.\n",
    "* A function can have multiple return statements .Whenever a return statement is executed the control flow exits the function."
   ]
  },
  {
   "cell_type": "code",
   "execution_count": 41,
   "metadata": {},
   "outputs": [],
   "source": [
    "def check_posive(x):\n",
    "    if x >= 0:\n",
    "        return \"positive\"\n",
    "    else:\n",
    "        return \"negative\""
   ]
  },
  {
   "cell_type": "code",
   "execution_count": 42,
   "metadata": {},
   "outputs": [
    {
     "data": {
      "text/plain": [
       "'positive'"
      ]
     },
     "execution_count": 42,
     "metadata": {},
     "output_type": "execute_result"
    }
   ],
   "source": [
    "check_posive(10)"
   ]
  },
  {
   "cell_type": "code",
   "execution_count": 43,
   "metadata": {},
   "outputs": [
    {
     "data": {
      "text/plain": [
       "'negative'"
      ]
     },
     "execution_count": 43,
     "metadata": {},
     "output_type": "execute_result"
    }
   ],
   "source": [
    "check_posive(-10)"
   ]
  },
  {
   "cell_type": "code",
   "execution_count": 19,
   "metadata": {},
   "outputs": [],
   "source": []
  },
  {
   "cell_type": "code",
   "execution_count": 20,
   "metadata": {},
   "outputs": [
    {
     "name": "stdout",
     "output_type": "stream",
     "text": [
      "10.0 2.302585092994046\n"
     ]
    }
   ],
   "source": []
  },
  {
   "cell_type": "markdown",
   "metadata": {},
   "source": [
    "## 4. What are lambda functions in Python? How are they different from regular functions? Provide an example where a lambda function can be useful."
   ]
  },
  {
   "cell_type": "markdown",
   "metadata": {},
   "source": [
    "* lambda functions are anonymous functions that can take arguments on the fly and return values.\n",
    "* lambda functions are single line statements instead of multiline code in regular fucntions.\n",
    "* lambda does not use def keyword and no return statement for returning values.\n",
    "* lambda function are useful for passing functions as arguemnts for another function such as sorting and filtering"
   ]
  },
  {
   "cell_type": "code",
   "execution_count": 25,
   "metadata": {},
   "outputs": [
    {
     "data": {
      "text/plain": [
       "[0, 1, 4, 9, 16, 25, 36, 49, 64, 81]"
      ]
     },
     "execution_count": 25,
     "metadata": {},
     "output_type": "execute_result"
    }
   ],
   "source": [
    "list1 = [i for i in range(10)]\n",
    "list(map(lambda x:x ** 2,list1))"
   ]
  },
  {
   "cell_type": "code",
   "execution_count": 26,
   "metadata": {},
   "outputs": [
    {
     "data": {
      "text/plain": [
       "[0, 2, 4, 6, 8]"
      ]
     },
     "execution_count": 26,
     "metadata": {},
     "output_type": "execute_result"
    }
   ],
   "source": [
    "list(filter(lambda x:x % 2 == 0,list1))"
   ]
  },
  {
   "cell_type": "code",
   "execution_count": 31,
   "metadata": {},
   "outputs": [
    {
     "data": {
      "text/plain": [
       "[(0, 10), (2, 20), (4, 70), (3, 80), (1, 100)]"
      ]
     },
     "execution_count": 31,
     "metadata": {},
     "output_type": "execute_result"
    }
   ],
   "source": [
    "scores = [(0,10),(1,100),(2,20),(3,80),(4,70)]\n",
    "sorted(scores,key = lambda x:x[1])"
   ]
  },
  {
   "cell_type": "markdown",
   "metadata": {},
   "source": [
    "## 5. How does the concept of \"scope\" apply to functions in Python? Explain the difference between local scope and global scope."
   ]
  },
  {
   "cell_type": "markdown",
   "metadata": {},
   "source": [
    "* Variable defined inside a function are only accessible locally i.e within the function. These variables are not accessible from outside the function\n",
    "\n",
    "* variables defined in the main program are global variables which are accessible from anywhere in the program including in functions by .\n",
    "\n",
    "* it is possible to define variables inside function by using global keyword and access from ouside the functions.It allows for defining the variabel with local or global scope"
   ]
  },
  {
   "cell_type": "code",
   "execution_count": 37,
   "metadata": {},
   "outputs": [
    {
     "data": {
      "text/plain": [
       "10"
      ]
     },
     "execution_count": 37,
     "metadata": {},
     "output_type": "execute_result"
    }
   ],
   "source": [
    "\n",
    "\n",
    "def add(x,y):\n",
    "    global offset \n",
    "    offset = 10\n",
    "    return x+y+offset\n",
    "\n",
    "add(10,20)\n",
    "offset"
   ]
  },
  {
   "cell_type": "code",
   "execution_count": null,
   "metadata": {},
   "outputs": [],
   "source": []
  },
  {
   "cell_type": "markdown",
   "metadata": {},
   "source": [
    "## 6. How can you use the \"return\" statement in a Python function to return multiple values?"
   ]
  },
  {
   "cell_type": "markdown",
   "metadata": {},
   "source": [
    "* multiple values can be returned using return statement with values seperated by commas"
   ]
  },
  {
   "cell_type": "code",
   "execution_count": 45,
   "metadata": {},
   "outputs": [
    {
     "name": "stdout",
     "output_type": "stream",
     "text": [
      "10.0 2.302585092994046\n"
     ]
    }
   ],
   "source": [
    "import math\n",
    "def log_value(x):\n",
    "    return x,math.log(x)\n",
    "\n",
    "x,logx = log_value(10.0)\n",
    "print(x,logx)"
   ]
  },
  {
   "cell_type": "markdown",
   "metadata": {},
   "source": [
    "## 7. What is the difference between the \"pass by value\" and \"pass by reference\" concepts when it comes to function arguments in Python?"
   ]
  },
  {
   "cell_type": "markdown",
   "metadata": {},
   "source": [
    "* python uses object reference mechanism for attributes passed to functions. In python, passed attributes are not objects itself  but they are reference to the objects.\n",
    "\n",
    "* any modifications made inside the function are reflected in the object being referenced.\n",
    "\n",
    "* if new assignment made to the parameter inside the function, then it will not affect the original variable because it will create new reference to a different object ."
   ]
  },
  {
   "cell_type": "code",
   "execution_count": 48,
   "metadata": {},
   "outputs": [
    {
     "data": {
      "text/plain": [
       "[1, 2, 3, 2]"
      ]
     },
     "execution_count": 48,
     "metadata": {},
     "output_type": "execute_result"
    }
   ],
   "source": [
    "# modifying the object inside function\n",
    "def modify(list1):\n",
    "    list1.append(2)\n",
    "    return list1\n",
    "\n",
    "list1 = [1,2,3]\n",
    "modify(list1)"
   ]
  },
  {
   "cell_type": "code",
   "execution_count": 50,
   "metadata": {},
   "outputs": [
    {
     "name": "stdout",
     "output_type": "stream",
     "text": [
      "[1, 2, 3]\n"
     ]
    }
   ],
   "source": [
    "# assignment inside function\n",
    "def modify(list1):\n",
    "    list1 = [4,5,6]\n",
    "    return list1\n",
    "\n",
    "list1 = [1,2,3]\n",
    "modify(list1)\n",
    "print(list1)"
   ]
  },
  {
   "cell_type": "markdown",
   "metadata": {},
   "source": [
    "## 8. Create a function that can intake integer or decimal value and do following operations: a. Logarithmic function (log x) \n",
    "## b. Exponential function (exp(x))\n",
    "## c. Power function with base 2 (2x)\n",
    "## d. Square root"
   ]
  },
  {
   "cell_type": "code",
   "execution_count": 56,
   "metadata": {},
   "outputs": [
    {
     "name": "stdout",
     "output_type": "stream",
     "text": [
      "(0.6931471805599453, 7.38905609893065, 4.0, 1.4142135623730951)\n"
     ]
    }
   ],
   "source": [
    "def arith_ops(x):\n",
    "    assert (type(x) == int) or (type(x) == float)\n",
    "    log_x = math.log(x)\n",
    "    exp_x = math.exp(x)\n",
    "    pow_x = math.pow(2,x)\n",
    "    sqrt_x = math.sqrt(x)\n",
    "    return log_x,exp_x,pow_x,sqrt_x\n",
    "\n",
    "try:\n",
    "    values = arith_ops(2)\n",
    "    print(values)\n",
    "except AssertionError:\n",
    "    print(\"value should be int or decimal\")"
   ]
  },
  {
   "cell_type": "code",
   "execution_count": null,
   "metadata": {},
   "outputs": [],
   "source": []
  },
  {
   "cell_type": "markdown",
   "metadata": {},
   "source": [
    "## 9. Create a function that takes a full name as an argument and returns first name and last name."
   ]
  },
  {
   "cell_type": "code",
   "execution_count": 78,
   "metadata": {},
   "outputs": [],
   "source": [
    "def name_splitter(full_name):\n",
    "    assert ' ' in full_name \n",
    "    first_name,last_name = full_name.split()\n",
    "    print(\"Full Name:\",full_name)\n",
    "    return first_name,last_name"
   ]
  },
  {
   "cell_type": "code",
   "execution_count": 80,
   "metadata": {},
   "outputs": [
    {
     "name": "stdout",
     "output_type": "stream",
     "text": [
      "Full Name: elon musk\n",
      "Output: ('elon', 'musk')\n"
     ]
    }
   ],
   "source": [
    "try:\n",
    "    print(\"Output:\",name_splitter(\"elon musk\"))\n",
    "except AssertionError:\n",
    "    print(\"Fullname should contain ' ' between first_name and last_name \")"
   ]
  },
  {
   "cell_type": "code",
   "execution_count": null,
   "metadata": {},
   "outputs": [],
   "source": []
  },
  {
   "cell_type": "code",
   "execution_count": null,
   "metadata": {},
   "outputs": [],
   "source": []
  },
  {
   "cell_type": "code",
   "execution_count": null,
   "metadata": {},
   "outputs": [],
   "source": []
  }
 ],
 "metadata": {
  "kernelspec": {
   "display_name": "Python 3",
   "language": "python",
   "name": "python3"
  },
  "language_info": {
   "codemirror_mode": {
    "name": "ipython",
    "version": 3
   },
   "file_extension": ".py",
   "mimetype": "text/x-python",
   "name": "python",
   "nbconvert_exporter": "python",
   "pygments_lexer": "ipython3",
   "version": "3.7.1"
  }
 },
 "nbformat": 4,
 "nbformat_minor": 2
}
