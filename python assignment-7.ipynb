{
 "cells": [
  {
   "cell_type": "markdown",
   "metadata": {},
   "source": [
    "## Q.1. Create two int type variables, apply addition, subtraction, division and multiplications and store the results in variables. Then print the data in the following format by calling the variables:\n",
    "    \n",
    "## First variable is __ & second variable is __.\n",
    "## Addition: __ + __ = __\n",
    "## Subtraction: __ - __ = __\n",
    "## Multiplication: __ * __ = __\n",
    "## Division: __ / __ = __"
   ]
  },
  {
   "cell_type": "code",
   "execution_count": 3,
   "metadata": {},
   "outputs": [
    {
     "name": "stdout",
     "output_type": "stream",
     "text": [
      "First variable is 10 & second variable is 20.\n",
      "Addition: 10 + 20 = 30\n",
      "Subtraction: 10 + 20 = -10\n",
      "Multiplication: 10 + 20 = 200\n",
      "Division: 10 + 20 = 0.5\n"
     ]
    }
   ],
   "source": [
    "x,y = 10,20\n",
    "print(f\"First variable is {x} & second variable is {y}.\")\n",
    "print(\"Addition: {} + {} = {}\".format(x,y,x+y))\n",
    "print(\"Subtraction: {} + {} = {}\".format(x,y,x-y))\n",
    "print(\"Multiplication: {} + {} = {}\".format(x,y,x*y))\n",
    "print(\"Division: {} + {} = {}\".format(x,y,x/y))"
   ]
  },
  {
   "cell_type": "markdown",
   "metadata": {},
   "source": [
    "## Q.2. What is the difference between the following operators:\n",
    "## (i) ‘/’ & ‘//’\n",
    "## (ii) ‘**’ & ‘^’"
   ]
  },
  {
   "cell_type": "markdown",
   "metadata": {},
   "source": [
    "* `/` is arithmetic division operator which gives quotient as float output.\n",
    "* `//` is arithmetic floor division  operator which gives quotient as integer output.\n",
    "* `**` is exponenentiation operator for calculating power of a number.\n",
    "* `^' is bit wise  ex-or operator used for performing logical operation on two numbers."
   ]
  },
  {
   "cell_type": "code",
   "execution_count": 21,
   "metadata": {},
   "outputs": [
    {
     "name": "stdout",
     "output_type": "stream",
     "text": [
      " Division(/) of 5 and 4: 1.25 \n",
      " Floor Division(//) of 5 and 4: 1\n"
     ]
    }
   ],
   "source": [
    "print(\" Division(/) of 5 and 4:\",5/4,\"\\n\",\"Floor Division(//) of 5 and 4:\",5//4)"
   ]
  },
  {
   "cell_type": "code",
   "execution_count": 20,
   "metadata": {},
   "outputs": [
    {
     "name": "stdout",
     "output_type": "stream",
     "text": [
      " Exponentiation(**) 2 power 3 is: 8 \n",
      " Logical XOR(^) of 10 & 2 is: 8\n"
     ]
    }
   ],
   "source": [
    "print(\" Exponentiation(**) 2 power 3 is:\",2 ** 3,\"\\n\",\"Logical XOR(^) of 10 & 2 is:\",10 ^ 2)"
   ]
  },
  {
   "cell_type": "markdown",
   "metadata": {},
   "source": [
    "## Q.3. List the logical operators."
   ]
  },
  {
   "cell_type": "markdown",
   "metadata": {},
   "source": [
    "* logical AND(and) \n",
    "* logical OR (or) \n",
    "* logical NOT(not) \n",
    "\n",
    "#### These operators are used for performing logical operations on boolean values."
   ]
  },
  {
   "cell_type": "markdown",
   "metadata": {},
   "source": [
    "## Q.4. Explain right shift operator and left shift operator with examples."
   ]
  },
  {
   "cell_type": "markdown",
   "metadata": {},
   "source": [
    "* Left Shift Operator(<<) is a bit wise operator which can be used on left shifting of bits of integers.\n",
    "* For example, a << 2 calculates  a multiplied by 2 power of spcified number i.e, a multiplied by 2 power 2\n"
   ]
  },
  {
   "cell_type": "code",
   "execution_count": 26,
   "metadata": {},
   "outputs": [
    {
     "name": "stdout",
     "output_type": "stream",
     "text": [
      "128\n"
     ]
    }
   ],
   "source": [
    "print(8 <<4 ) # 8 * (2**4)"
   ]
  },
  {
   "cell_type": "markdown",
   "metadata": {},
   "source": [
    "* Right Shift Operator(>>) is a bit wise operator which can be used on right shifting of bits of integers.\n",
    "* For example, a >> 2 calculates  a divided by 2 power of spcified number i.e, a multiplied by 2 power 2"
   ]
  },
  {
   "cell_type": "code",
   "execution_count": 28,
   "metadata": {},
   "outputs": [
    {
     "name": "stdout",
     "output_type": "stream",
     "text": [
      "1\n"
     ]
    }
   ],
   "source": [
    "print(8 >> 3) # 8 / (2**3)"
   ]
  },
  {
   "cell_type": "code",
   "execution_count": 29,
   "metadata": {},
   "outputs": [
    {
     "name": "stdout",
     "output_type": "stream",
     "text": [
      "0\n"
     ]
    }
   ],
   "source": [
    "print(8 >> 4) # 8 / (2**4)"
   ]
  },
  {
   "cell_type": "markdown",
   "metadata": {},
   "source": [
    "## Q.5. Create a list containing int type data of length 15. Then write a code to check if 10 is present in the list or not."
   ]
  },
  {
   "cell_type": "code",
   "execution_count": 36,
   "metadata": {},
   "outputs": [
    {
     "name": "stdout",
     "output_type": "stream",
     "text": [
      "Length is: 15\n",
      "is 10 present in list: True\n"
     ]
    }
   ],
   "source": [
    "list1 = [i for i in range(15)]\n",
    "print(\"Length is:\",len(list1))\n",
    "print(\"is 10 present in list:\",end = ' ')\n",
    "print(10 in list1)"
   ]
  },
  {
   "cell_type": "code",
   "execution_count": null,
   "metadata": {},
   "outputs": [],
   "source": []
  }
 ],
 "metadata": {
  "kernelspec": {
   "display_name": "Python 3",
   "language": "python",
   "name": "python3"
  },
  "language_info": {
   "codemirror_mode": {
    "name": "ipython",
    "version": 3
   },
   "file_extension": ".py",
   "mimetype": "text/x-python",
   "name": "python",
   "nbconvert_exporter": "python",
   "pygments_lexer": "ipython3",
   "version": "3.7.1"
  }
 },
 "nbformat": 4,
 "nbformat_minor": 2
}
