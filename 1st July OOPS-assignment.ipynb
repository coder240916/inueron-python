{
 "cells": [
  {
   "cell_type": "markdown",
   "metadata": {},
   "source": [
    "## 1. What is the primary goal of Object-Oriented Programming (OOP)?"
   ]
  },
  {
   "cell_type": "markdown",
   "metadata": {},
   "source": [
    "#### OOP helps to write strctured code in an abstractive way.\n",
    "#### It will help to reuse the existing code.\n",
    "#### modularity - OOP helps to breakdown complex code into small and manageable peices called objects.\n",
    "#### it helps to organize data and associated methods together and maniputalte the data easily."
   ]
  },
  {
   "cell_type": "code",
   "execution_count": null,
   "metadata": {},
   "outputs": [],
   "source": []
  },
  {
   "cell_type": "markdown",
   "metadata": {},
   "source": [
    "## 2. What is an object in Python?"
   ]
  },
  {
   "cell_type": "markdown",
   "metadata": {},
   "source": [
    "* Instance of a class is called object. Everything in python is an object.Object contains data as well as methods for manipulating the data."
   ]
  },
  {
   "cell_type": "markdown",
   "metadata": {},
   "source": [
    "* examples of object are 25 (int class),'name'(string class) etc."
   ]
  },
  {
   "cell_type": "markdown",
   "metadata": {},
   "source": [
    "## 3. What is a class in Python?"
   ]
  },
  {
   "cell_type": "markdown",
   "metadata": {},
   "source": [
    "* A class is collection of attributes and methods used for defining objects. It is like blueprint from which objects can be created and different methods can be used for manipulating the data"
   ]
  },
  {
   "cell_type": "code",
   "execution_count": 1,
   "metadata": {},
   "outputs": [],
   "source": [
    "class Person:\n",
    "    def __init__(self,name):\n",
    "        self.name = name"
   ]
  },
  {
   "cell_type": "markdown",
   "metadata": {},
   "source": [
    "## 4. What are attributes and methods in a class?"
   ]
  },
  {
   "cell_type": "markdown",
   "metadata": {},
   "source": [
    "* attributes are variables that can be used to access values using objects or classes .\n",
    "* methods are functions defined in the class that can be called from objects for manipulation of data"
   ]
  },
  {
   "cell_type": "code",
   "execution_count": null,
   "metadata": {},
   "outputs": [],
   "source": []
  },
  {
   "cell_type": "markdown",
   "metadata": {},
   "source": [
    "## 5. What is the difference between class variables and instance variables in Python?"
   ]
  },
  {
   "cell_type": "markdown",
   "metadata": {},
   "source": [
    "* class variables are defined inside the class and can be accessed by all objects created using that class.\n",
    "* instance variables are variables used for creating object which can be accessed by the same objects.Other objects have no access to them."
   ]
  },
  {
   "cell_type": "code",
   "execution_count": null,
   "metadata": {},
   "outputs": [],
   "source": []
  },
  {
   "cell_type": "markdown",
   "metadata": {},
   "source": [
    "## 6. What is the purpose of the self parameter in Python class methods?"
   ]
  },
  {
   "cell_type": "markdown",
   "metadata": {},
   "source": [
    "* using self paratmeter, the object is passed to calling method to access the object attributes.\n",
    "* Accessing class method using object, for example obj1.some_method() is actually called as classname.some_method(object) while execution.\n"
   ]
  },
  {
   "cell_type": "code",
   "execution_count": 4,
   "metadata": {},
   "outputs": [],
   "source": [
    "class Person:\n",
    "    def __init__(self,name):\n",
    "        self.name = name\n",
    "        \n",
    "    def greet(self):\n",
    "        print(f\"hello,{self.name}\")\n",
    "        \n",
    "person = Person('dan')"
   ]
  },
  {
   "cell_type": "code",
   "execution_count": 5,
   "metadata": {},
   "outputs": [
    {
     "name": "stdout",
     "output_type": "stream",
     "text": [
      "hello,dan\n"
     ]
    }
   ],
   "source": [
    "person.greet()"
   ]
  },
  {
   "cell_type": "code",
   "execution_count": 7,
   "metadata": {},
   "outputs": [
    {
     "name": "stdout",
     "output_type": "stream",
     "text": [
      "hello,dan\n"
     ]
    }
   ],
   "source": [
    "Person.greet(person)"
   ]
  },
  {
   "cell_type": "code",
   "execution_count": null,
   "metadata": {},
   "outputs": [],
   "source": [
    "7. For a library management system, you have to design the \"Book\" class with OOP\n",
    "principles in mind. The “Book” class will have following attributes:\n",
    "a. title: Represents the title of the book.\n",
    "b. author: Represents the author(s) of the book.\n",
    "c. isbn: Represents the ISBN (International Standard Book Number) of the book.\n",
    "d. publication_year: Represents the year of publication of the book.\n",
    "e. available_copies: Represents the number of copies available for checkout.\n",
    "The class will also include the following methods:\n",
    "a. check_out(self): Decrements the available copies by one if there are copies\n",
    "available for checkout.\n",
    "b. return_book(self): Increments the available copies by one when a book is\n",
    "returned.\n",
    "c. display_book_info(self): Displays the information about the book, including its\n",
    "attributes and the number of available copies."
   ]
  },
  {
   "cell_type": "code",
   "execution_count": 21,
   "metadata": {},
   "outputs": [
    {
     "name": "stdout",
     "output_type": "stream",
     "text": [
      "Title:HANDSON ML,Author:A GERON,ISBN:ABCDE243,Publication Year:2018,Available Copies:5\n",
      "Book issued.\n"
     ]
    },
    {
     "data": {
      "text/plain": [
       "<Book Title:HANDSON ML Author:A GERON ISBN:ABCDE243 Year:2018 Avaliable_copies:5>"
      ]
     },
     "execution_count": 21,
     "metadata": {},
     "output_type": "execute_result"
    }
   ],
   "source": [
    "class Book:\n",
    "    def __init__(self,title,author,isbn,publication_year,available_copies):\n",
    "        self.title = title\n",
    "        self.author = author\n",
    "        self.isbn = isbn\n",
    "        self.publication_year = publication_year\n",
    "        self.available_copies = available_copies\n",
    "        \n",
    "    def __repr__(self):\n",
    "        return f\"<Book Title:{self.title} Author:{self.author} ISBN:{self.isbn} Year:{self.publication_year} Avaliable_copies:{self.available_copies}>\"\n",
    "        \n",
    "    def check_out(self):\n",
    "        if self.available_copies > 0:\n",
    "            print(\"Book issued.\")\n",
    "            self.available_copies -= 1\n",
    "            \n",
    "    def return_book(self):\n",
    "        self.available_copies += 1\n",
    "        \n",
    "    def display_book_info(self):\n",
    "        print(f\"Title:{self.title},Author:{self.author},ISBN:{self.isbn},Publication Year:{self.publication_year},Available Copies:{self.available_copies}\")\n",
    "        \n",
    "book = Book(\"HANDSON ML\",\"A GERON\",\"ABCDE243\",'2018',5)\n",
    "book.display_book_info()\n",
    "book.check_out()\n",
    "book.return_book()\n",
    "book\n",
    "        "
   ]
  },
  {
   "cell_type": "code",
   "execution_count": null,
   "metadata": {},
   "outputs": [],
   "source": [
    "8. For a ticket booking system, you have to design the \"Ticket\" class with OOP\n",
    "principles in mind. The “Ticket” class should have the following attributes:\n",
    "a. ticket_id: Represents the unique identifier for the ticket.\n",
    "b. event_name: Represents the name of the event.\n",
    "c. event_date: Represents the date of the event.\n",
    "d. venue: Represents the venue of the event.\n",
    "e. seat_number: Represents the seat number associated with the ticket.\n",
    "f. price: Represents the price of the ticket.\n",
    "g. is_reserved: Represents the reservation status of the ticket.\n",
    "The class also includes the following methods:\n",
    "a. reserve_ticket(self): Marks the ticket as reserved if it is not already reserved.\n",
    "b. cancel_reservation(self): Cancels the reservation of the ticket if it is already\n",
    "reserved.\n",
    "c. display_ticket_info(self): Displays the information about the ticket, including its\n",
    "attributes and reservation status."
   ]
  },
  {
   "cell_type": "code",
   "execution_count": 30,
   "metadata": {},
   "outputs": [
    {
     "name": "stdout",
     "output_type": "stream",
     "text": [
      "Ticket id:1234,Event_name:bangalore,Date:23/09/2023,Venue:hyderabad Seat Number:A1,Price:5000,Reserved:False\n",
      "\n",
      "\n",
      "Reserving Ticket...\n",
      "Ticket id:1234,Event_name:bangalore,Date:23/09/2023,Venue:hyderabad Seat Number:A1,Price:5000,Reserved:True\n",
      "\n",
      "\n",
      "Cancelling reservation..\n",
      "Ticket id:1234,Event_name:bangalore,Date:23/09/2023,Venue:hyderabad Seat Number:A1,Price:5000,Reserved:False\n"
     ]
    }
   ],
   "source": [
    "class Ticket:\n",
    "    def __init__(self,ticket_id,event_name,event_date,venue,seat_number,price,is_reserved):\n",
    "        self.ticket_id = ticket_id\n",
    "        self.event_name = event_name\n",
    "        self.event_date = event_date\n",
    "        self.venue = venue\n",
    "        self.seat_number = seat_number\n",
    "        self.price = price\n",
    "        self.is_reserved = is_reserved\n",
    "        \n",
    "    def reserve_ticket(self):\n",
    "        if not self.is_reserved:\n",
    "            self.is_reserved = True\n",
    "            \n",
    "    def cancel_reservation(self):\n",
    "        self.is_reserved = False\n",
    "        \n",
    "    def display_ticket_info(self):\n",
    "        print(f\"Ticket id:{self.ticket_id},Event_name:{self.event_name},Date:{self.event_date},Venue:{self.venue}\",end=' ')\n",
    "        print(f\"Seat Number:{self.seat_number},Price:{self.price},Reserved:{self.is_reserved}\")\n",
    "        \n",
    "ticket = Ticket('1234','bangalore','23/09/2023','hyderabad','A1','5000',False)\n",
    "ticket.display_ticket_info()\n",
    "print('\\n')\n",
    "print('Reserving Ticket...')\n",
    "ticket.reserve_ticket()\n",
    "ticket.display_ticket_info()\n",
    "print('\\n')            \n",
    "print(\"Cancelling reservation..\")\n",
    "ticket.cancel_reservation()\n",
    "ticket.display_ticket_info()"
   ]
  },
  {
   "cell_type": "code",
   "execution_count": null,
   "metadata": {},
   "outputs": [],
   "source": [
    "9. You are creating a shopping cart for an e-commerce website. Using OOP to model\n",
    "the \"ShoppingCart\" functionality the class should contain following attributes and\n",
    "methods:\n",
    "a. items: Represents the list of items in the shopping cart.\n",
    "The class also includes the following methods:\n",
    "\n",
    "a. add_item(self, item): Adds an item to the shopping cart by appending it to the\n",
    "list of items.\n",
    "b. remove_item(self, item): Removes an item from the shopping cart if it exists in\n",
    "the list.\n",
    "c. view_cart(self): Displays the items currently present in the shopping cart.\n",
    "d. clear_cart(self): Clears all items from the shopping cart by reassigning an\n",
    "empty list to the items attribute."
   ]
  },
  {
   "cell_type": "code",
   "execution_count": 44,
   "metadata": {},
   "outputs": [
    {
     "name": "stdout",
     "output_type": "stream",
     "text": [
      "adding item soap..\n",
      "items in cart\n",
      "soap\n",
      "adding item rice..\n",
      "items in cart\n",
      "soap\n",
      "rice\n",
      "removing item..\n",
      "soap removed successfully\n",
      "items in cart\n",
      "rice\n",
      "items in cart\n"
     ]
    }
   ],
   "source": [
    "class ShoppingCart:\n",
    "    def __init__(self):\n",
    "        self.items =[]\n",
    "        \n",
    "    def add_item(self,item):\n",
    "        print(f\"adding item {item}..\")\n",
    "        self.items.append(item)\n",
    "        \n",
    "    def remove_item(self,item):\n",
    "        if item in self.items:\n",
    "            self.items.remove(item)\n",
    "            print(\"removing item..\")\n",
    "            print(f\"{item} removed successfully\")\n",
    "            return\n",
    "        print(\"item does not exist\")\n",
    "        \n",
    "        \n",
    "    def view_cart(self):\n",
    "        print(\"items in cart\")\n",
    "        for item in self.items:\n",
    "            print(item)\n",
    "        \n",
    "    def clear_cart(self):\n",
    "        self.items = []\n",
    "        \n",
    "cart = ShoppingCart()\n",
    "\n",
    "cart.add_item(\"soap\")\n",
    "cart.view_cart()\n",
    "\n",
    "cart.add_item('rice')\n",
    "cart.view_cart()\n",
    "\n",
    "cart.remove_item('soap')\n",
    "cart.view_cart()\n",
    "\n",
    "\n",
    "cart.clear_cart()\n",
    "cart.view_cart()"
   ]
  },
  {
   "cell_type": "code",
   "execution_count": null,
   "metadata": {},
   "outputs": [],
   "source": [
    "10. Imagine a school management system. You have to design the \"Student\" class using\n",
    "OOP concepts.The “Student” class has the following attributes:\n",
    "a. name: Represents the name of the student.\n",
    "b. age: Represents the age of the student.\n",
    "c. grade: Represents the grade or class of the student.\n",
    "d. student_id: Represents the unique identifier for the student.\n",
    "e. attendance: Represents the attendance record of the student.\n",
    "The class should also include the following methods:\n",
    "a. update_attendance(self, date, status): Updates the attendance record of the\n",
    "student for a given date with the provided status (e.g., present or absent).\n",
    "b. get_attendance(self): Returns the attendance record of the student.\n",
    "c. get_average_attendance(self): Calculates and returns the average\n",
    "attendance percentage of the student based on their attendance record."
   ]
  },
  {
   "cell_type": "code",
   "execution_count": 84,
   "metadata": {
    "scrolled": false
   },
   "outputs": [
    {
     "name": "stdout",
     "output_type": "stream",
     "text": [
      "Average Attendance:53%\n"
     ]
    },
    {
     "data": {
      "text/plain": [
       "{'2023-08-01 00:00:00': 'absent',\n",
       " '2023-08-02 00:00:00': 'present',\n",
       " '2023-08-03 00:00:00': 'absent',\n",
       " '2023-08-04 00:00:00': 'present',\n",
       " '2023-08-05 00:00:00': 'absent',\n",
       " '2023-08-06 00:00:00': 'absent',\n",
       " '2023-08-07 00:00:00': 'present',\n",
       " '2023-08-08 00:00:00': 'present',\n",
       " '2023-08-09 00:00:00': 'present',\n",
       " '2023-08-10 00:00:00': 'absent',\n",
       " '2023-08-11 00:00:00': 'present',\n",
       " '2023-08-12 00:00:00': 'present',\n",
       " '2023-08-13 00:00:00': 'absent',\n",
       " '2023-08-14 00:00:00': 'present',\n",
       " '2023-08-15 00:00:00': 'present',\n",
       " '2023-08-16 00:00:00': 'absent',\n",
       " '2023-08-17 00:00:00': 'absent',\n",
       " '2023-08-18 00:00:00': 'absent',\n",
       " '2023-08-19 00:00:00': 'present',\n",
       " '2023-08-20 00:00:00': 'absent',\n",
       " '2023-08-21 00:00:00': 'absent',\n",
       " '2023-08-22 00:00:00': 'present',\n",
       " '2023-08-23 00:00:00': 'present',\n",
       " '2023-08-24 00:00:00': 'present',\n",
       " '2023-08-25 00:00:00': 'present',\n",
       " '2023-08-26 00:00:00': 'absent',\n",
       " '2023-08-27 00:00:00': 'present',\n",
       " '2023-08-28 00:00:00': 'absent',\n",
       " '2023-08-29 00:00:00': 'absent',\n",
       " '2023-08-30 00:00:00': 'present'}"
      ]
     },
     "execution_count": 84,
     "metadata": {},
     "output_type": "execute_result"
    }
   ],
   "source": [
    "import pandas as pd\n",
    "from datetime import date,timedelta\n",
    "import random\n",
    "\n",
    "class Student:\n",
    "    def __init__(self,name,age,grade,student_id):\n",
    "        self.name = name\n",
    "        self.age = age\n",
    "        self.grade = grade\n",
    "        self.student_id = student_id\n",
    "        self.attendance = {}\n",
    "        \n",
    "    def update_attendance(self,date,status):\n",
    "        self.attendance[date]=status\n",
    "        \n",
    "    def get_attendance(self):\n",
    "        return self.attendance\n",
    "   \n",
    "    def average_attendance(self):\n",
    "        present_days = len(list(filter(lambda x:x== 'present',self.attendance.values())))\n",
    "        average = present_days*100/len(self.attendance)\n",
    "        print( f\"Average Attendance:{average:.0f}%\")\n",
    "        return\n",
    "\n",
    "student_one = Student(\"vinay\",30,80,\"08F81\")\n",
    "\n",
    "\n",
    "dates = pd.date_range(start='08/01/2023',periods=30,freq='D')\n",
    "\n",
    "for date in dates:\n",
    "    student_one.update_attendance(str(date),random.choice([\"present\",'absent']))\n",
    "    \n",
    "\n",
    "student_one.average_attendance()\n",
    "\n",
    "student_one.get_attendance()"
   ]
  },
  {
   "cell_type": "code",
   "execution_count": null,
   "metadata": {},
   "outputs": [],
   "source": []
  }
 ],
 "metadata": {
  "kernelspec": {
   "display_name": "Python 3",
   "language": "python",
   "name": "python3"
  },
  "language_info": {
   "codemirror_mode": {
    "name": "ipython",
    "version": 3
   },
   "file_extension": ".py",
   "mimetype": "text/x-python",
   "name": "python",
   "nbconvert_exporter": "python",
   "pygments_lexer": "ipython3",
   "version": "3.7.1"
  }
 },
 "nbformat": 4,
 "nbformat_minor": 2
}
