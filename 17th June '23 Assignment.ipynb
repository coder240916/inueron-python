{
 "cells": [
  {
   "cell_type": "markdown",
   "metadata": {},
   "source": [
    "## 1. What is the role of try and exception block?"
   ]
  },
  {
   "cell_type": "markdown",
   "metadata": {},
   "source": [
    "* try-except block is used for handling errors raised during the programe execution.\n",
    "* using try-except , helps to gracefully exit the program in the event of errors.\n",
    "* it can be used to handle various types of errors"
   ]
  },
  {
   "cell_type": "markdown",
   "metadata": {},
   "source": [
    "## 2. What is the syntax for a basic try-except block?"
   ]
  },
  {
   "cell_type": "code",
   "execution_count": 3,
   "metadata": {},
   "outputs": [],
   "source": [
    "try:\n",
    "    # do something\n",
    "    pass\n",
    "except:\n",
    "    print(\"error message\")"
   ]
  },
  {
   "cell_type": "code",
   "execution_count": 4,
   "metadata": {},
   "outputs": [
    {
     "name": "stdout",
     "output_type": "stream",
     "text": [
      "Please enter a valid value.\n"
     ]
    }
   ],
   "source": [
    "try:\n",
    "    value = int('a')\n",
    "except ValueError:\n",
    "    print(\"Please enter a valid value.\")"
   ]
  },
  {
   "cell_type": "markdown",
   "metadata": {},
   "source": [
    "## 3. What happens if an exception occurs inside a try block and there is no matching except block?"
   ]
  },
  {
   "cell_type": "markdown",
   "metadata": {},
   "source": [
    "* if there is not matching block, then the program terminates with error and traceback"
   ]
  },
  {
   "cell_type": "code",
   "execution_count": 5,
   "metadata": {},
   "outputs": [
    {
     "ename": "TypeError",
     "evalue": "unsupported operand type(s) for +: 'int' and 'str'",
     "output_type": "error",
     "traceback": [
      "\u001b[1;31m---------------------------------------------------------------------------\u001b[0m",
      "\u001b[1;31mTypeError\u001b[0m                                 Traceback (most recent call last)",
      "\u001b[1;32m<ipython-input-5-0f5f2e8e3e45>\u001b[0m in \u001b[0;36m<module>\u001b[1;34m\u001b[0m\n\u001b[0;32m      1\u001b[0m \u001b[1;32mtry\u001b[0m\u001b[1;33m:\u001b[0m\u001b[1;33m\u001b[0m\u001b[1;33m\u001b[0m\u001b[0m\n\u001b[1;32m----> 2\u001b[1;33m     \u001b[1;36m5\u001b[0m \u001b[1;33m+\u001b[0m \u001b[1;34m'a'\u001b[0m\u001b[1;33m\u001b[0m\u001b[1;33m\u001b[0m\u001b[0m\n\u001b[0m\u001b[0;32m      3\u001b[0m \u001b[1;32mexcept\u001b[0m \u001b[0mValueError\u001b[0m\u001b[1;33m:\u001b[0m\u001b[1;33m\u001b[0m\u001b[1;33m\u001b[0m\u001b[0m\n\u001b[0;32m      4\u001b[0m     \u001b[0mprint\u001b[0m\u001b[1;33m(\u001b[0m\u001b[1;34m\"Value Error occured\"\u001b[0m\u001b[1;33m)\u001b[0m\u001b[1;33m\u001b[0m\u001b[1;33m\u001b[0m\u001b[0m\n",
      "\u001b[1;31mTypeError\u001b[0m: unsupported operand type(s) for +: 'int' and 'str'"
     ]
    }
   ],
   "source": [
    "try:\n",
    "    5 + 'a'\n",
    "except ValueError:\n",
    "    print(\"Value Error occured\")"
   ]
  },
  {
   "cell_type": "markdown",
   "metadata": {},
   "source": [
    "## 4. What is the difference between using a bare except block and specifying a specific exception type?"
   ]
  },
  {
   "cell_type": "markdown",
   "metadata": {},
   "source": [
    "* if  exception block is used , it will handle all the errors raised during program execution.\n",
    "* in case of specific exception type, it handles only that particular exception.If no matching exception type is found, error will be raised."
   ]
  },
  {
   "cell_type": "markdown",
   "metadata": {},
   "source": [
    "## 5. Can you have nested try-except blocks in Python? If yes, then give an example."
   ]
  },
  {
   "cell_type": "markdown",
   "metadata": {},
   "source": [
    "* Yes.It is possible to use try -except blocks in nested manner.Example is given below."
   ]
  },
  {
   "cell_type": "code",
   "execution_count": 25,
   "metadata": {},
   "outputs": [
    {
     "name": "stdout",
     "output_type": "stream",
     "text": [
      "Enter first number 1\n",
      "Enter second number 0\n",
      "Zero Divison Error (inner try-except block)\n",
      "Zero Division Error (outer try-except block)\n"
     ]
    }
   ],
   "source": [
    "try:\n",
    "    val1 = int(input('Enter first number '))\n",
    "    val2 = int(input('Enter second number '))\n",
    "    try:\n",
    "        result = val1/val2\n",
    "    except ZeroDivisionError:\n",
    "        print(\"Zero Divison Error (inner try-except block)\")\n",
    "        raise\n",
    "\n",
    "except ValueError:\n",
    "    print(\"Invalid values entered\")\n",
    "    \n",
    "except ZeroDivisionError:\n",
    "    print(\"Zero Division Error (outer try-except block)\")\n",
    "    \n",
    "else:\n",
    "    print(result)"
   ]
  },
  {
   "cell_type": "markdown",
   "metadata": {},
   "source": [
    "## 6. Can we use multiple exception blocks, if yes then give an example."
   ]
  },
  {
   "cell_type": "markdown",
   "metadata": {},
   "source": [
    "* Yes, multiple exception blocks can be used in error handling."
   ]
  },
  {
   "cell_type": "code",
   "execution_count": 8,
   "metadata": {},
   "outputs": [
    {
     "name": "stdout",
     "output_type": "stream",
     "text": [
      "cars in garage:1\n"
     ]
    }
   ],
   "source": [
    "class Car:\n",
    "    def __init__(self,make,model):\n",
    "        self.make = make\n",
    "        self.model = model\n",
    "        \n",
    "    def __repr__(self):\n",
    "        return f\"<Car {self.make} {self.model}>\"\n",
    "    \n",
    "    \n",
    "class Garage:\n",
    "    def __init__(self):\n",
    "        self.cars=[]\n",
    "        \n",
    "    def __len__(self):\n",
    "        return len(self.cars)\n",
    "        \n",
    "    def add_car(self,car):\n",
    "        if not isinstance(car,Car):\n",
    "            raise TypeError(f\"Tried to add `{car.__class__.__name__}` object.Car object is only allowed\")\n",
    "            \n",
    "        self.cars.append(car)\n",
    "        \n",
    "        \n",
    "ford = Garage()\n",
    "\n",
    "car = Car(\"Ford\",\"Fiesta\")\n",
    "\n",
    "try:\n",
    "    #ford.add_car(\"fiesta\")\n",
    "    ford.add_car(car)\n",
    "except TypeError:\n",
    "    print(\"Please add only Car object\")\n",
    "except ValueError:\n",
    "    print(\"Some error happened\")\n",
    "finally:\n",
    "    print(f\"cars in garage:{len(ford)}\")"
   ]
  },
  {
   "cell_type": "markdown",
   "metadata": {},
   "source": [
    "## 7. Write the reason due to which following errors are raised:\n",
    "## a. EOFError\n",
    "## b. FloatingPointError\n",
    "## c. IndexError\n",
    "## d. MemoryError\n",
    "## e. OverflowError\n",
    "## f. TabError\n",
    "## g. ValueError"
   ]
  },
  {
   "cell_type": "markdown",
   "metadata": {},
   "source": [
    "* a. **EOFError** is raised when a program is trying to read from a file  but reaches end of file unexpectedly."
   ]
  },
  {
   "cell_type": "markdown",
   "metadata": {},
   "source": [
    "* b. **FloatingPointError** is due to representation hardwares' binary floating point arithmetic which lead to small roundoff errors."
   ]
  },
  {
   "cell_type": "code",
   "execution_count": 54,
   "metadata": {},
   "outputs": [
    {
     "data": {
      "text/plain": [
       "0.19999999999999996"
      ]
     },
     "execution_count": 54,
     "metadata": {},
     "output_type": "execute_result"
    }
   ],
   "source": [
    "1.2-1.0 # the answer shoudlbe 0.2 \n"
   ]
  },
  {
   "cell_type": "markdown",
   "metadata": {},
   "source": [
    "* c. **IndexError** is raised when accessing values in a iterable with incorrect index."
   ]
  },
  {
   "cell_type": "code",
   "execution_count": 40,
   "metadata": {},
   "outputs": [
    {
     "ename": "IndexError",
     "evalue": "list index out of range",
     "output_type": "error",
     "traceback": [
      "\u001b[1;31m---------------------------------------------------------------------------\u001b[0m",
      "\u001b[1;31mIndexError\u001b[0m                                Traceback (most recent call last)",
      "\u001b[1;32m<ipython-input-40-072b1b8790fb>\u001b[0m in \u001b[0;36m<module>\u001b[1;34m\u001b[0m\n\u001b[0;32m      1\u001b[0m \u001b[0ml1\u001b[0m \u001b[1;33m=\u001b[0m \u001b[1;33m[\u001b[0m\u001b[1;36m1\u001b[0m\u001b[1;33m,\u001b[0m\u001b[1;36m2\u001b[0m\u001b[1;33m,\u001b[0m\u001b[1;36m3\u001b[0m\u001b[1;33m]\u001b[0m\u001b[1;33m\u001b[0m\u001b[1;33m\u001b[0m\u001b[0m\n\u001b[1;32m----> 2\u001b[1;33m \u001b[0ml1\u001b[0m\u001b[1;33m[\u001b[0m\u001b[1;36m5\u001b[0m\u001b[1;33m]\u001b[0m\u001b[1;33m\u001b[0m\u001b[1;33m\u001b[0m\u001b[0m\n\u001b[0m",
      "\u001b[1;31mIndexError\u001b[0m: list index out of range"
     ]
    }
   ],
   "source": [
    "l1 = [1,2,3]\n",
    "l1[5]"
   ]
  },
  {
   "cell_type": "markdown",
   "metadata": {},
   "source": [
    "* d.**MemoryError** is raised when the program try to use more than available RAM memory.\n",
    "* For example , OutofMemory error can occur if large datasets are loaded into memory if sufficient memory is not available. \n",
    "* It can also occur while running infintie loops without deallocating memory."
   ]
  },
  {
   "cell_type": "markdown",
   "metadata": {},
   "source": [
    "* e.**OverflowError** can occur if result of computations are too large or too small that can be represented by the datatype.\n"
   ]
  },
  {
   "cell_type": "code",
   "execution_count": 46,
   "metadata": {},
   "outputs": [
    {
     "data": {
      "text/plain": [
       "1"
      ]
     },
     "execution_count": 46,
     "metadata": {},
     "output_type": "execute_result"
    }
   ],
   "source": [
    "import math\n",
    "math.factorial(1000000)"
   ]
  },
  {
   "cell_type": "markdown",
   "metadata": {},
   "source": [
    "* f. **TabError** is raised if mix of  spaces and tab  indentation are used in program ."
   ]
  },
  {
   "cell_type": "code",
   "execution_count": 52,
   "metadata": {},
   "outputs": [
    {
     "ename": "IndentationError",
     "evalue": "unexpected indent (<ipython-input-52-b5b68a1cdedd>, line 4)",
     "output_type": "error",
     "traceback": [
      "\u001b[1;36m  File \u001b[1;32m\"<ipython-input-52-b5b68a1cdedd>\"\u001b[1;36m, line \u001b[1;32m4\u001b[0m\n\u001b[1;33m    print(\"Indented with spaces\")  # This will raise a TabError\u001b[0m\n\u001b[1;37m    ^\u001b[0m\n\u001b[1;31mIndentationError\u001b[0m\u001b[1;31m:\u001b[0m unexpected indent\n"
     ]
    }
   ],
   "source": [
    "def my_function():\n",
    "    if True:\n",
    "        print(\"Indented with a tab\")\n",
    "         print(\"Indented with spaces\")  # This will raise a TabError\n",
    "my_function()"
   ]
  },
  {
   "cell_type": "code",
   "execution_count": null,
   "metadata": {},
   "outputs": [],
   "source": []
  },
  {
   "cell_type": "markdown",
   "metadata": {},
   "source": [
    "* g. **ValueError** is raised when incorrect values passed in the program such as int('a'),int('5.2'),"
   ]
  },
  {
   "cell_type": "markdown",
   "metadata": {},
   "source": [
    "## 8. Write code for the following given scenario and add try-exception block to it.\n",
    "## a. Program to divide two numbers\n",
    "## b. Program to convert a string to an integer\n",
    "## c. Program to access an element in a list\n",
    "## d. Program to handle a specific exception\n",
    "## e. Program to handle any exception"
   ]
  },
  {
   "cell_type": "markdown",
   "metadata": {},
   "source": [
    "#### program for dividing two numbers"
   ]
  },
  {
   "cell_type": "code",
   "execution_count": 47,
   "metadata": {},
   "outputs": [
    {
     "name": "stdout",
     "output_type": "stream",
     "text": [
      "1.0\n",
      "Zero Divsion Error\n",
      "None\n"
     ]
    }
   ],
   "source": [
    "\n",
    "def divide(a,b):\n",
    "    try:\n",
    "        result = a/b\n",
    "    except ZeroDivisionError:\n",
    "        print('Zero Divsion Error')\n",
    "    else:\n",
    "        return result\n",
    "print(divide(2,2))\n",
    "print(divide(2,0))"
   ]
  },
  {
   "cell_type": "markdown",
   "metadata": {},
   "source": [
    "#### b. Program to convert a string to an integer"
   ]
  },
  {
   "cell_type": "code",
   "execution_count": 12,
   "metadata": {},
   "outputs": [
    {
     "name": "stdout",
     "output_type": "stream",
     "text": [
      "Invalid value.\n"
     ]
    }
   ],
   "source": [
    "\n",
    "\n",
    "try:\n",
    "    val = int('a')\n",
    "except ValueError:\n",
    "    print(\"Invalid value.\")"
   ]
  },
  {
   "cell_type": "markdown",
   "metadata": {},
   "source": [
    "#### c. Program to access an element in a list"
   ]
  },
  {
   "cell_type": "code",
   "execution_count": 13,
   "metadata": {},
   "outputs": [
    {
     "name": "stdout",
     "output_type": "stream",
     "text": [
      "The list has only 3 elements\n"
     ]
    }
   ],
   "source": [
    "\n",
    "l1 = [1,2,3]\n",
    "\n",
    "try:\n",
    "    val = l1[4]\n",
    "except IndexError:\n",
    "    print(f\"The list has only {len(l1)} elements\")"
   ]
  },
  {
   "cell_type": "markdown",
   "metadata": {},
   "source": [
    "#### d. Program to handle a specific exception"
   ]
  },
  {
   "cell_type": "code",
   "execution_count": 18,
   "metadata": {},
   "outputs": [
    {
     "name": "stdout",
     "output_type": "stream",
     "text": [
      "Invalid values passed to perform_calculation function\n"
     ]
    }
   ],
   "source": [
    "\n",
    "\n",
    "class User:\n",
    "    def __init__(self,name,metrics):\n",
    "        self.name = name\n",
    "        self.engagement_metrics = metrics\n",
    "        \n",
    "    def __repr__(self):\n",
    "        return f\"<User {self.name}>\"\n",
    "\n",
    "def get_user_score(user):\n",
    "    \"\"\"\n",
    "    This function checks if user has engagement score above 500 and sends email.\n",
    "    \"\"\"\n",
    "    try:\n",
    "        score =  perform_calculation(user.engagement_metrics)\n",
    "    except KeyError:\n",
    "        # handling key error\n",
    "        print(\"Invalid values passed to perform_calculation function\")\n",
    "    else:\n",
    "        if score > 500:\n",
    "            send_mail(user)\n",
    "        \n",
    "def perform_calculation(metrics):\n",
    "    return metrics['clicks'] * 5 + metrics['hits']*2\n",
    "\n",
    "def send_mail(user):\n",
    "    print( f\" Email sent to user {user}\")\n",
    "    \n",
    "user = User(\"madhu\",{'click':100,'hits':60})\n",
    "\n",
    "get_user_score(user)\n"
   ]
  },
  {
   "cell_type": "markdown",
   "metadata": {},
   "source": [
    "#### e.Program to handle any exception"
   ]
  },
  {
   "cell_type": "code",
   "execution_count": 21,
   "metadata": {},
   "outputs": [
    {
     "name": "stdout",
     "output_type": "stream",
     "text": [
      "An Error Occured: invalid literal for int() with base 10: '5.2'\n"
     ]
    }
   ],
   "source": [
    "try:\n",
    "    value = int('5.2')\n",
    "except Exception as e:\n",
    "    print(\"An Error Occured:\",e)"
   ]
  },
  {
   "cell_type": "code",
   "execution_count": null,
   "metadata": {},
   "outputs": [],
   "source": []
  }
 ],
 "metadata": {
  "kernelspec": {
   "display_name": "Python 3",
   "language": "python",
   "name": "python3"
  },
  "language_info": {
   "codemirror_mode": {
    "name": "ipython",
    "version": 3
   },
   "file_extension": ".py",
   "mimetype": "text/x-python",
   "name": "python",
   "nbconvert_exporter": "python",
   "pygments_lexer": "ipython3",
   "version": "3.7.1"
  }
 },
 "nbformat": 4,
 "nbformat_minor": 2
}
