{
 "cells": [
  {
   "cell_type": "markdown",
   "metadata": {},
   "source": [
    "## 1. What is the role of the 'else' block in a try-except statement? Provide an example\n",
    "## scenario where it would be useful."
   ]
  },
  {
   "cell_type": "markdown",
   "metadata": {},
   "source": [
    "* else block in try-except will be executed if no errors are raised in try block. If any error is raised ,then else block will not be executed. "
   ]
  },
  {
   "cell_type": "markdown",
   "metadata": {},
   "source": [
    "* A simple example can be reading files. If no errors raised during file opening which is put in try block then file opearaions can be done in else block."
   ]
  },
  {
   "cell_type": "code",
   "execution_count": 1,
   "metadata": {},
   "outputs": [
    {
     "name": "stdout",
     "output_type": "stream",
     "text": [
      "File not found\n"
     ]
    }
   ],
   "source": [
    "try:\n",
    "    with open('file1.txt','r') as f:\n",
    "        data = file.read()\n",
    "        \n",
    "except FileNotFoundError:\n",
    "    print(\"File not found\")\n",
    "except PermissionError:\n",
    "    print(\"Permission denied\")\n",
    "else:\n",
    "    lines = data.split('/n')\n",
    "    line_count = len(lines)\n",
    "    print(f\"Total lines in file:{line_count}\")"
   ]
  },
  {
   "cell_type": "markdown",
   "metadata": {},
   "source": [
    "## 2. Can a try-except block be nested inside another try-except block? Explain with an\n",
    "## example."
   ]
  },
  {
   "cell_type": "markdown",
   "metadata": {},
   "source": [
    "* Yes, multiple try-except blocks can be nested with in each other."
   ]
  },
  {
   "cell_type": "code",
   "execution_count": 2,
   "metadata": {},
   "outputs": [
    {
     "name": "stdout",
     "output_type": "stream",
     "text": [
      "Enter first number 1\n",
      "Enter second number 0\n",
      "Zero Divison Error (inner try-except block)\n",
      "Zero Division Error (outer try-except block)\n"
     ]
    }
   ],
   "source": [
    "try:\n",
    "    val1 = int(input('Enter first number '))\n",
    "    val2 = int(input('Enter second number '))\n",
    "    try:\n",
    "        result = val1/val2\n",
    "    except ZeroDivisionError:\n",
    "        print(\"Zero Divison Error (inner try-except block)\")\n",
    "        raise\n",
    "\n",
    "except ValueError:\n",
    "    print(\"Invalid values entered\")\n",
    "    \n",
    "except ZeroDivisionError:\n",
    "    print(\"Zero Division Error (outer try-except block)\")\n",
    "    \n",
    "else:\n",
    "    print(result)"
   ]
  },
  {
   "cell_type": "markdown",
   "metadata": {},
   "source": [
    "## 3. How can you create a custom exception class in Python? Provide an example that\n",
    "## demonstrates its usage."
   ]
  },
  {
   "cell_type": "markdown",
   "metadata": {},
   "source": [
    "* custom exception classes can be created by inheriting from specific exception class or simply exception class"
   ]
  },
  {
   "cell_type": "code",
   "execution_count": 3,
   "metadata": {},
   "outputs": [
    {
     "ename": "MyCustomError",
     "evalue": "Error Code:500,Message:Division by 0 is not allowed",
     "output_type": "error",
     "traceback": [
      "\u001b[1;31m---------------------------------------------------------------------------\u001b[0m",
      "\u001b[1;31mMyCustomError\u001b[0m                             Traceback (most recent call last)",
      "\u001b[1;32m<ipython-input-3-3b5e563845a1>\u001b[0m in \u001b[0;36m<module>\u001b[1;34m\u001b[0m\n\u001b[0;32m      7\u001b[0m         \u001b[1;32mraise\u001b[0m \u001b[0mMyCustomError\u001b[0m\u001b[1;33m(\u001b[0m\u001b[1;34m\"Division by 0 is not allowed\"\u001b[0m\u001b[1;33m,\u001b[0m\u001b[1;36m500\u001b[0m\u001b[1;33m)\u001b[0m\u001b[1;33m\u001b[0m\u001b[1;33m\u001b[0m\u001b[0m\n\u001b[0;32m      8\u001b[0m \u001b[1;33m\u001b[0m\u001b[0m\n\u001b[1;32m----> 9\u001b[1;33m \u001b[0mdivision\u001b[0m\u001b[1;33m(\u001b[0m\u001b[1;36m1\u001b[0m\u001b[1;33m,\u001b[0m\u001b[1;36m0\u001b[0m\u001b[1;33m)\u001b[0m\u001b[1;33m\u001b[0m\u001b[1;33m\u001b[0m\u001b[0m\n\u001b[0m",
      "\u001b[1;32m<ipython-input-3-3b5e563845a1>\u001b[0m in \u001b[0;36mdivision\u001b[1;34m(a, b)\u001b[0m\n\u001b[0;32m      5\u001b[0m \u001b[1;32mdef\u001b[0m \u001b[0mdivision\u001b[0m\u001b[1;33m(\u001b[0m\u001b[0ma\u001b[0m\u001b[1;33m,\u001b[0m\u001b[0mb\u001b[0m\u001b[1;33m)\u001b[0m\u001b[1;33m:\u001b[0m\u001b[1;33m\u001b[0m\u001b[1;33m\u001b[0m\u001b[0m\n\u001b[0;32m      6\u001b[0m     \u001b[1;32mif\u001b[0m \u001b[0mb\u001b[0m \u001b[1;33m==\u001b[0m \u001b[1;36m0\u001b[0m\u001b[1;33m:\u001b[0m\u001b[1;33m\u001b[0m\u001b[1;33m\u001b[0m\u001b[0m\n\u001b[1;32m----> 7\u001b[1;33m         \u001b[1;32mraise\u001b[0m \u001b[0mMyCustomError\u001b[0m\u001b[1;33m(\u001b[0m\u001b[1;34m\"Division by 0 is not allowed\"\u001b[0m\u001b[1;33m,\u001b[0m\u001b[1;36m500\u001b[0m\u001b[1;33m)\u001b[0m\u001b[1;33m\u001b[0m\u001b[1;33m\u001b[0m\u001b[0m\n\u001b[0m\u001b[0;32m      8\u001b[0m \u001b[1;33m\u001b[0m\u001b[0m\n\u001b[0;32m      9\u001b[0m \u001b[0mdivision\u001b[0m\u001b[1;33m(\u001b[0m\u001b[1;36m1\u001b[0m\u001b[1;33m,\u001b[0m\u001b[1;36m0\u001b[0m\u001b[1;33m)\u001b[0m\u001b[1;33m\u001b[0m\u001b[1;33m\u001b[0m\u001b[0m\n",
      "\u001b[1;31mMyCustomError\u001b[0m: Error Code:500,Message:Division by 0 is not allowed"
     ]
    }
   ],
   "source": [
    "class MyCustomError(Exception):\n",
    "    def __init__(self,message,code):\n",
    "        super().__init__(f\"Error Code:{code},Message:{message}\")\n",
    "        \n",
    "def division(a,b):\n",
    "    if b == 0:\n",
    "        raise MyCustomError(\"Division by 0 is not allowed\",500)\n",
    "        \n",
    "division(1,0)"
   ]
  },
  {
   "cell_type": "markdown",
   "metadata": {},
   "source": [
    "## 4. What are some common exceptions that are built-in to Python?"
   ]
  },
  {
   "cell_type": "markdown",
   "metadata": {},
   "source": [
    "* RunTimeError\n",
    "* SyntaxError\n",
    "* ImportError\n",
    "* NameError\n",
    "* ValueError\n",
    "* TypeError\n",
    "* IndexError\n",
    "* KeyError\n",
    "* AttributeError\n",
    "* IndentationError\n",
    "* TabError\n",
    "* ZeroDivisionError\n",
    "* FileNotFoundError\n"
   ]
  },
  {
   "cell_type": "code",
   "execution_count": null,
   "metadata": {},
   "outputs": [],
   "source": [
    "open('file1.txt','r')"
   ]
  },
  {
   "cell_type": "markdown",
   "metadata": {},
   "source": [
    "## 5. What is logging in Python, and why is it important in software development?"
   ]
  },
  {
   "cell_type": "markdown",
   "metadata": {},
   "source": [
    "* logging module in python allows for creating different logs while running the program.The logs can be written to a file.\n",
    "* logging helps to debug the errors during program execution that will help to analyze bugs and fix them.\n",
    "* Peformance evaluation of software  can be done  by using the logs.\n",
    "* Errors can effectively captured by exact point of occurence, so that quick troubleshooting can be done.\n",
    "* Logging helps to document and understand behaviour of large complex code so that developers can make improvements to the code."
   ]
  },
  {
   "cell_type": "markdown",
   "metadata": {},
   "source": [
    "## 6. Explain the purpose of log levels in Python logging and provide examples of when\n",
    "## each log level would be appropriate."
   ]
  },
  {
   "cell_type": "markdown",
   "metadata": {},
   "source": [
    "* log levels are used for cateogrizing log messages bases on severity or  importance.\n",
    "* logging.DEBUG is useful during program development and debugging phase\n",
    "* logging.INFO is useful for logging general info messages during program executuon.\n",
    "* logging.WARNING is useful to highlight potential issues that may requrie attention\n",
    "* logging.ERROR is useful for reporting errors that may not stop program exection.\n",
    "* logging.CRITICAL is useful for logging critical errors that lead to program failure."
   ]
  },
  {
   "cell_type": "markdown",
   "metadata": {},
   "source": [
    "## 7. What are log formatters in Python logging, and how can you customise the log\n",
    "## message format using formatters?"
   ]
  },
  {
   "cell_type": "markdown",
   "metadata": {},
   "source": [
    "* log formatters are used for specifying format of log messages created by logging module."
   ]
  },
  {
   "cell_type": "markdown",
   "metadata": {},
   "source": [
    "* log message format can be customized by specifying the foramt string to formatter.Exmaple is given below."
   ]
  },
  {
   "cell_type": "code",
   "execution_count": null,
   "metadata": {},
   "outputs": [],
   "source": [
    "import logging\n",
    "\n",
    "logger = logging.getLogger('test_logger')\n",
    "\n",
    "formatter = logging.Formatter('%(asctime)s [%(levelname)s] %(name)s: %(message)s')\n",
    "handler = logging.FileHandler(filename=\"log.txt\")\n",
    "handler.setFormatter(formatter)\n",
    "logger.addHandler(handler)\n",
    "\n",
    "logger.info(\"This is a info message\")\n",
    "logger.warning(\"This is a info message\")"
   ]
  },
  {
   "cell_type": "markdown",
   "metadata": {},
   "source": [
    "## 8. How can you set up logging to capture log messages from multiple modules or\n",
    "## classes in a Python application?"
   ]
  },
  {
   "cell_type": "markdown",
   "metadata": {},
   "source": [
    "* log messages can be captured from different modules by creating loggers as child loggers of root logger defined in main program."
   ]
  },
  {
   "cell_type": "code",
   "execution_count": null,
   "metadata": {},
   "outputs": [],
   "source": [
    "# main\n",
    "logger = logging.getLogger('root_logger')\n",
    "\n",
    "# module-1\n",
    "logger = logging.getLogger(\"root_logger.module_1\")"
   ]
  },
  {
   "cell_type": "markdown",
   "metadata": {},
   "source": [
    "## 9. What is the difference between the logging and print statements in Python? When\n",
    "## should you use logging over print statements in a real-world application?"
   ]
  },
  {
   "cell_type": "markdown",
   "metadata": {},
   "source": [
    "* logging uses message format as configured for writing to console or files in organized manner.\n",
    "* print statements cna only print messages to console.\n",
    "* It is always good to use logging in development,debugging and production of a real world application due to its versatality and configurability. "
   ]
  },
  {
   "cell_type": "markdown",
   "metadata": {},
   "source": [
    "## 10. Write a Python program that logs a message to a file named \"app.log\" with the\n",
    "## following requirements:\n",
    "## ● The log message should be \"Hello, World!\"\n",
    "## ● The log level should be set to \"INFO.\"\n",
    "## ● The log file should append new log entries without overwriting previous ones."
   ]
  },
  {
   "cell_type": "code",
   "execution_count": 7,
   "metadata": {},
   "outputs": [],
   "source": [
    "import logging\n",
    "\n",
    "logging.basicConfig(\n",
    "                     filename='test.txt',\n",
    "                     format='%(asctime)s %(levelname)-8s [%(filename)s:%(lineno)d] %(message)s',\n",
    "                     level = logging.INFO,\n",
    "                     dateformat = \"%d-%m-%Y %H:%M:%S\")\n",
    "\n",
    "logger = logging.getLogger('test_logger')\n",
    "\n",
    "logger.info(\"Hello,World!\")\n"
   ]
  },
  {
   "cell_type": "markdown",
   "metadata": {},
   "source": [
    "## 11. Create a Python program that logs an error message to the console and a file named\n",
    "## \"errors.log\" if an exception occurs during the program's execution. The error\n",
    "## message should include the exception type and a timestamp."
   ]
  },
  {
   "cell_type": "code",
   "execution_count": 15,
   "metadata": {},
   "outputs": [
    {
     "name": "stdout",
     "output_type": "stream",
     "text": [
      "Division by zero is not allowed\n"
     ]
    }
   ],
   "source": [
    "# creating a child logger based on test_logger\n",
    "logger = logging.getLogger('test_logger.module1')\n",
    "\n",
    "def divide(a,b):\n",
    "    return a/b\n",
    "\n",
    "try:\n",
    "    divide(3,0)\n",
    "except ZeroDivisionError as e:\n",
    "\n",
    "    print(\"Division by zero is not allowed\")\n",
    "    logger.error(type(e))\n"
   ]
  },
  {
   "cell_type": "code",
   "execution_count": null,
   "metadata": {},
   "outputs": [],
   "source": []
  }
 ],
 "metadata": {
  "kernelspec": {
   "display_name": "Python 3",
   "language": "python",
   "name": "python3"
  },
  "language_info": {
   "codemirror_mode": {
    "name": "ipython",
    "version": 3
   },
   "file_extension": ".py",
   "mimetype": "text/x-python",
   "name": "python",
   "nbconvert_exporter": "python",
   "pygments_lexer": "ipython3",
   "version": "3.7.1"
  }
 },
 "nbformat": 4,
 "nbformat_minor": 2
}
