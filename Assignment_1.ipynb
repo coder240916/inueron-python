{
 "cells": [
  {
   "cell_type": "markdown",
   "metadata": {
    "id": "ZFQ4js0kdSg4"
   },
   "source": [
    "## 1. In the below elements which of them are values or an expression? eg:- values can be\n",
    "## integer or string and expressions will be mathematical operators. \n",
    "*\n",
    "\n",
    "'hello'\n",
    "\n",
    "-87.8\n",
    "\n",
    "-\n",
    "\n",
    "/\n",
    "\n",
    "+\n",
    "\n",
    "6 \n"
   ]
  },
  {
   "cell_type": "code",
   "execution_count": null,
   "metadata": {
    "id": "cP5cghjWg0u3"
   },
   "outputs": [],
   "source": [
    "*        - expression (arithmetic operator)\n",
    "'hello'  - value(string)\n",
    "-87.8    - value(float)\n",
    "-        - expression(arithmetic operator) \n",
    "/        - expression(arithmetic operator)\n",
    "+        - expression(arithmetic operator)\n",
    "6        - value(integer)"
   ]
  },
  {
   "cell_type": "markdown",
   "metadata": {
    "id": "IGElGIXNeqY7"
   },
   "source": [
    "## 2. What is the difference between string and variable?"
   ]
  },
  {
   "cell_type": "markdown",
   "metadata": {
    "id": "ySAMdeAFgVPw"
   },
   "source": [
    "String is a datatype used for representing text values \n",
    "where as variable is name given for  memory location for stroing values (int,float,str,boolean) and objects."
   ]
  },
  {
   "cell_type": "markdown",
   "metadata": {
    "id": "A1I9ujgff7MT"
   },
   "source": [
    "## 3. Describe three different data types."
   ]
  },
  {
   "cell_type": "markdown",
   "metadata": {
    "id": "Y2wnFwYCf8hs"
   },
   "source": [
    "String used for representing text values\n",
    "int is used for representing integers such as -1,1,0,10,10000 etc\n",
    "float is used for numeric data with decimals such as -10.5,22.7 etc"
   ]
  },
  {
   "cell_type": "markdown",
   "metadata": {
    "id": "AIpmkQ-mgYyA"
   },
   "source": [
    "## 4. What is an expression made up of? What do all expressions do?"
   ]
  },
  {
   "cell_type": "markdown",
   "metadata": {
    "id": "oKJi-E73gY6f"
   },
   "source": [
    "An expression consists of values,operators for performing oepration on given values.  Expressions are useful for evaluating single output value based on given input values and performed calculations."
   ]
  },
  {
   "cell_type": "markdown",
   "metadata": {
    "id": "dxhS2Li9gZEO"
   },
   "source": [
    "## 5. This assignment statements, like spam = 10. What is the difference between an expression and a statement?"
   ]
  },
  {
   "cell_type": "markdown",
   "metadata": {
    "id": "zxxH9FaEgZPQ"
   },
   "source": [
    "Expression evaluates to a single value based on operators and input values.\n",
    "sttaements control program flow . For example, spam =10 creates a variable named spam and points it to object with value 10.\n",
    " \n",
    "Another example is pass statement which does nothing."
   ]
  },
  {
   "cell_type": "markdown",
   "metadata": {
    "id": "r0VQOylPi3Nq"
   },
   "source": [
    "## 6. After running the following code, what does the variable bacon contain?\n",
    "## bacon = 22\n",
    "## bacon + 1"
   ]
  },
  {
   "cell_type": "markdown",
   "metadata": {
    "id": "Khq1OYKAi3f_"
   },
   "source": [
    "it will be 22 since no assignment  done after adding 1."
   ]
  },
  {
   "cell_type": "markdown",
   "metadata": {
    "id": "qMNfgWYMjDrf"
   },
   "source": [
    "## 7. What should the values of the following two terms be?\n",
    "## &#39;spam&#39; + &#39;spamspam&#39;\n",
    "## &#39;spam&#39; * 3"
   ]
  },
  {
   "cell_type": "markdown",
   "metadata": {
    "id": "OgoqigFgjHRB"
   },
   "source": [
    "Both will have same oputput 'spamspamspam'."
   ]
  },
  {
   "cell_type": "markdown",
   "metadata": {
    "id": "5RFJfzYxjMeY"
   },
   "source": [
    "## 8. Why is eggs a valid variable name while 100 is invalid?"
   ]
  },
  {
   "cell_type": "markdown",
   "metadata": {
    "id": "F79oYlcijMkY"
   },
   "source": [
    "eggs starts with letter which is valid.\n",
    "100 starts with number which is not valid identifier to begin with. Python identifiers can start with a-z,A-Z,_ and others are not allowed."
   ]
  },
  {
   "cell_type": "markdown",
   "metadata": {
    "id": "4e-3kUnKj4dp"
   },
   "source": [
    "## 9. What three functions can be used to get the integer, floating-point number, or string\n",
    "## version of a value?"
   ]
  },
  {
   "cell_type": "markdown",
   "metadata": {
    "id": "45vPQqXyj4i5"
   },
   "source": [
    "int('3') gives interger output 3\n",
    "\n",
    "float('3.5') gives float output 3.5\n",
    "\n",
    "str(3) gives string output '3'."
   ]
  },
  {
   "cell_type": "markdown",
   "metadata": {
    "id": "5A0GzpaAkLZA"
   },
   "source": [
    "## 10. Why does this expression cause an error? How can you fix it?\n",
    "## &#39;I have eaten &#39; + 99 + &#39; burritos.&#39; "
   ]
  },
  {
   "cell_type": "code",
   "execution_count": 1,
   "metadata": {
    "id": "hhZyVTcFkLkn"
   },
   "outputs": [
    {
     "data": {
      "text/plain": [
       "'I have eaten 99 burritos.'"
      ]
     },
     "execution_count": 1,
     "metadata": {},
     "output_type": "execute_result"
    }
   ],
   "source": [
    "'I have eaten ' + str(99) + ' burritos.'"
   ]
  }
 ],
 "metadata": {
  "colab": {
   "provenance": []
  },
  "kernelspec": {
   "display_name": "Python 3",
   "language": "python",
   "name": "python3"
  },
  "language_info": {
   "codemirror_mode": {
    "name": "ipython",
    "version": 3
   },
   "file_extension": ".py",
   "mimetype": "text/x-python",
   "name": "python",
   "nbconvert_exporter": "python",
   "pygments_lexer": "ipython3",
   "version": "3.7.1"
  }
 },
 "nbformat": 4,
 "nbformat_minor": 1
}
