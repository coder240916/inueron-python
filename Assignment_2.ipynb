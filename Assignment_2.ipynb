{
 "cells": [
  {
   "cell_type": "markdown",
   "metadata": {
    "id": "Yy93czT96H28"
   },
   "source": [
    "### 1.What are the two values of the Boolean data type? How do you write them?"
   ]
  },
  {
   "cell_type": "code",
   "execution_count": null,
   "metadata": {
    "id": "lQcMbEzn6P-g"
   },
   "outputs": [],
   "source": [
    "True ,False  are boolean data types."
   ]
  },
  {
   "cell_type": "markdown",
   "metadata": {
    "id": "znFFrnxA6TfZ"
   },
   "source": [
    "### 2. What are the three different types of Boolean operators?"
   ]
  },
  {
   "cell_type": "code",
   "execution_count": null,
   "metadata": {
    "id": "zVF-GsO36Wfq"
   },
   "outputs": [],
   "source": [
    "and, or , not are boolean operators."
   ]
  },
  {
   "cell_type": "markdown",
   "metadata": {
    "id": "2T3WtPBi6uOK"
   },
   "source": [
    "### 3. Make a list of each Boolean operator&#39;s truth tables (i.e. every possible combination of Boolean\n",
    "### values for the operator and what it evaluate )."
   ]
  },
  {
   "cell_type": "code",
   "execution_count": null,
   "metadata": {
    "id": "mxhAHDxa6vGm"
   },
   "outputs": [],
   "source": [
    "and operator \n",
    "True  True   True\n",
    "True  False  False\n",
    "False True   False\n",
    "False False  False\n",
    "\n",
    "\n",
    "or operator \n",
    "True  True   True\n",
    "True  False  True\n",
    "False True   True\n",
    "False False  False\n",
    "\n",
    "not operator\n",
    "\n",
    "True False\n",
    "False True"
   ]
  },
  {
   "cell_type": "markdown",
   "metadata": {
    "id": "efKNmoEj7UyH"
   },
   "source": [
    "### 4. What are the values of the following expressions?\n",
    "\n",
    "\n",
    "(5 > 4) and (3 == 5)\n",
    "\n",
    "not (5 > 4)\n",
    "\n",
    "(5 > 4) or (3 == 5)\n",
    "\n",
    "not ((5 > 4) or (3 == 5))\n",
    "\n",
    "(True and True) and (True == False)\n",
    "\n",
    "(not False) or (not True)"
   ]
  },
  {
   "cell_type": "code",
   "execution_count": null,
   "metadata": {
    "id": "qmvDjzm77Vdh"
   },
   "outputs": [],
   "source": [
    "(5 > 4) and (3 == 5)                False\n",
    "not (5 >  4)                        False \n",
    "(5 > 4) or (3 == 5)                 True\n",
    "not ((5 > 4) or (3 == 5))           False\n",
    "(True and True) and (True == False) False\n",
    "(not False) or (not True)           True "
   ]
  },
  {
   "cell_type": "markdown",
   "metadata": {
    "id": "WwY-BDuf8Ki8"
   },
   "source": [
    "### 5. What are the six comparison operators?"
   ]
  },
  {
   "cell_type": "code",
   "execution_count": null,
   "metadata": {
    "id": "KktzG66P7dnL"
   },
   "outputs": [],
   "source": [
    "==  equal to,\n",
    "!=  not equal to ,\n",
    ">   greater than,\n",
    ">=  greater than or equal to ,\n",
    "<   less than.\n",
    "<=  less than or equal to "
   ]
  },
  {
   "cell_type": "markdown",
   "metadata": {
    "id": "33eOXEmw8VJq"
   },
   "source": [
    "### 6. How do you tell the difference between the equal to and assignment operators?Describe a\n",
    "### condition and when you would use one."
   ]
  },
  {
   "cell_type": "code",
   "execution_count": null,
   "metadata": {
    "id": "bk2I9Hck8oDm"
   },
   "outputs": [],
   "source": [
    "Equal to == does the comparison between two values and return True if both are equal.Otherwise , False.\n",
    "assignment  operators actually assigns value to a variable after performing calculation.\n",
    "\n",
    "\n",
    "a= 4**2\n",
    "a += 4 \n",
    "In the first line , a is assigned to value 4*4. a is assigned to a+4.\n",
    "\n",
    "b= 16\n",
    "if a==b:\n",
    "  print('a is equal to b')\n",
    "\n",
    "In the above code, a and b are compared using equal to operator.\n"
   ]
  },
  {
   "cell_type": "markdown",
   "metadata": {
    "id": "OpDr1BOq9qpt"
   },
   "source": [
    "### 7. Identify the three blocks in this code:\n",
    "\n",
    "spam = 0\n",
    "\n",
    "if spam == 10:\n",
    "    print('eggs')\n",
    "    \n",
    "if spam > 5:\n",
    "    print('bacon')\n",
    "    \n",
    "else:\n",
    "    print('ham')\n",
    "    print('spam')\n",
    "    print('spam')\n"
   ]
  },
  {
   "cell_type": "code",
   "execution_count": null,
   "metadata": {
    "id": "d6kJckuQ9t-e"
   },
   "outputs": [],
   "source": [
    "First Block of code \n",
    "if spam == 10:\n",
    "    print('eggs')\n",
    "\n",
    "second Block of code\n",
    "if spam > 5:\n",
    "    print('bacon')\n",
    "\n",
    "third block of code\n",
    "else:\n",
    "    print('ham')\n",
    "    print('spam')\n",
    "    print('spam')\n",
    "\n"
   ]
  },
  {
   "cell_type": "markdown",
   "metadata": {
    "id": "NI5goWCq-Q3w"
   },
   "source": [
    "### 8. Write code that prints Hello if 1 is stored in spam, prints Howdy if 2 is stored in spam, and prints\n",
    "### Greetings! if anything else is stored in spam."
   ]
  },
  {
   "cell_type": "code",
   "execution_count": null,
   "metadata": {
    "id": "hpi3YHAv-R2n"
   },
   "outputs": [],
   "source": [
    "spam = int(input('enter your choice'))\n",
    "if spam == 1:\n",
    "  print('Hello')\n",
    "elif spam == 2:\n",
    "  print('Howdy')\n",
    "else:\n",
    "  print('Greetings!')"
   ]
  },
  {
   "cell_type": "markdown",
   "metadata": {
    "id": "YVQVY4pq-c6C"
   },
   "source": [
    "### 9.If your programme is stuck in an endless loop, what keys you’ll press?"
   ]
  },
  {
   "cell_type": "code",
   "execution_count": null,
   "metadata": {
    "id": "smfqRqOS-iWj"
   },
   "outputs": [],
   "source": [
    "ctrl+c to terminate execution of endless loop such as while loop."
   ]
  },
  {
   "cell_type": "markdown",
   "metadata": {
    "id": "GxZFvY-H-12y"
   },
   "source": [
    "### 10. How can you tell the difference between break and continue?"
   ]
  },
  {
   "cell_type": "code",
   "execution_count": null,
   "metadata": {
    "id": "pxUW6OlM-8Id"
   },
   "outputs": [],
   "source": [
    "break is used for terminating execution of  the loop.\n",
    "continue is used for skipping the code after continue statement and resume execution from next iteration."
   ]
  },
  {
   "cell_type": "markdown",
   "metadata": {
    "id": "ZkK6FkbTHSrI"
   },
   "source": [
    "### 11. In a for loop, what is the difference between range(10), range(0, 10), and range(0, 10, 1)?"
   ]
  },
  {
   "cell_type": "code",
   "execution_count": null,
   "metadata": {
    "id": "myP7yQVyHTT2"
   },
   "outputs": [],
   "source": [
    "range(10) gives output 0,1,2...9\n",
    "range(0,10) also gives output 0,1,2,3,...9\n",
    "range(0,10,1) also gives output 0,1,2,3,...9"
   ]
  },
  {
   "cell_type": "markdown",
   "metadata": {
    "id": "ZwPWbHQ6Hffs"
   },
   "source": [
    "### 12. Write a short program that prints the numbers 1 to 10 using a for loop. Then write an equivalent\n",
    "### program that prints the numbers 1 to 10 using a while loop."
   ]
  },
  {
   "cell_type": "code",
   "execution_count": null,
   "metadata": {
    "id": "_d1RA6kiHhSp"
   },
   "outputs": [],
   "source": [
    "for i in range(1,11):\n",
    "  print(i)\n",
    "\n",
    "i=1\n",
    "while i <= 10:\n",
    "  print(i)\n",
    "  i+=1\n",
    "  "
   ]
  },
  {
   "cell_type": "markdown",
   "metadata": {
    "id": "SUCgEdpNHpua"
   },
   "source": [
    "### 13. If you had a function named bacon() inside a module named spam, how would you call it after\n",
    "### importing spam?"
   ]
  },
  {
   "cell_type": "code",
   "execution_count": null,
   "metadata": {
    "id": "b9i6HfQrHtRt"
   },
   "outputs": [],
   "source": [
    "from spam import bacon\n"
   ]
  }
 ],
 "metadata": {
  "colab": {
   "authorship_tag": "ABX9TyNQMojyu8ccpAecKtEpMFqN",
   "provenance": []
  },
  "kernelspec": {
   "display_name": "Python 3",
   "language": "python",
   "name": "python3"
  },
  "language_info": {
   "codemirror_mode": {
    "name": "ipython",
    "version": 3
   },
   "file_extension": ".py",
   "mimetype": "text/x-python",
   "name": "python",
   "nbconvert_exporter": "python",
   "pygments_lexer": "ipython3",
   "version": "3.7.1"
  }
 },
 "nbformat": 4,
 "nbformat_minor": 1
}
